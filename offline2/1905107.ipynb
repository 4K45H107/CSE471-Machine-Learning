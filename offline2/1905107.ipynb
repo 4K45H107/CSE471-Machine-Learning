{
 "cells": [
  {
   "cell_type": "markdown",
   "metadata": {},
   "source": [
    "**Imports**"
   ]
  },
  {
   "cell_type": "code",
   "execution_count": 84,
   "metadata": {},
   "outputs": [],
   "source": [
    "import numpy as np\n",
    "import pandas as pd\n",
    "import random\n",
    "import seaborn as sns\n",
    "import matplotlib.pyplot as plt\n",
    "\n",
    "from sklearn.model_selection import train_test_split\n",
    "from sklearn.metrics import accuracy_score, recall_score, precision_score, confusion_matrix, f1_score, roc_auc_score, average_precision_score"
   ]
  },
  {
   "cell_type": "markdown",
   "metadata": {},
   "source": [
    "**Load Data**"
   ]
  },
  {
   "cell_type": "code",
   "execution_count": 85,
   "metadata": {},
   "outputs": [],
   "source": [
    "data = pd.read_csv(\"./dataset.csv\")\n",
    "\n",
    "# dataset 2\n",
    "data_test = pd.read_csv(\"./dataset_test.csv\")\n",
    "\n",
    "# data[\"label\"].value_counts()\n",
    "# data.shape"
   ]
  },
  {
   "cell_type": "markdown",
   "metadata": {},
   "source": [
    "**Split Data**"
   ]
  },
  {
   "cell_type": "code",
   "execution_count": 86,
   "metadata": {},
   "outputs": [],
   "source": [
    "# SPLIT 80-20 Train-Test from FULL dataset\n",
    "# for DATASER 1 and 3\n",
    "# X_train, X_test, y_train, y_test = train_test_split(data.drop(\"label\", axis=1), data[\"label\"], test_size=0.2, random_state=35)\n",
    "\n",
    "# for DATASET 2\n",
    "X_train, y_train = data.drop(\"label\", axis=1), data[\"label\"]\n",
    "X_test, y_test = data_test.drop(\"label\", axis=1), data_test[\"label\"]\n",
    "\n",
    "# SPLIT 80-20 Train-Validation from TRAIN dataset\n",
    "X_train, X_val, y_train, y_val = train_test_split(X_train, y_train, test_size=0.2, random_state=35)"
   ]
  },
  {
   "cell_type": "markdown",
   "metadata": {},
   "source": [
    "**Normal LR**"
   ]
  },
  {
   "cell_type": "code",
   "execution_count": 87,
   "metadata": {},
   "outputs": [
    {
     "name": "stdout",
     "output_type": "stream",
     "text": [
      "Accuracy: 0.850316319636386\n",
      "Sensitivity: 0.5912636505460218\n",
      "Specificity: 0.9304382790510656\n",
      "Precision: 0.7244345332908569\n",
      "F1-score: 0.651109520400859\n",
      "AUROC: 0.9016250597752097\n",
      "AUPR: 0.7485082980388065\n"
     ]
    }
   ],
   "source": [
    "from sklearn.linear_model import LogisticRegression\n",
    "\n",
    "model = LogisticRegression()\n",
    "model.fit(X_train, y_train)\n",
    "y_pred = model.predict(X_test)\n",
    "y_score = model.predict_proba(X_test)[:,1]\n",
    "\n",
    "accuracy = accuracy_score(y_test, y_pred)\n",
    "precision = precision_score(y_test, y_pred)\n",
    "recall = recall_score(y_test, y_pred)\n",
    "f1 = f1_score(y_test, y_pred)\n",
    "\n",
    "cm = confusion_matrix(y_test, y_pred)\n",
    "    \n",
    "tn = cm[0, 0]\n",
    "fp = cm[0, 1]\n",
    "\n",
    "AUROC = roc_auc_score(y_test, y_score)\n",
    "AUPR = average_precision_score(y_test, y_score)\n",
    "\n",
    "specificity = tn / (tn + fp)\n",
    "\n",
    "print(\"Accuracy:\", accuracy)\n",
    "print(\"Sensitivity:\", recall)\n",
    "print(\"Specificity:\", specificity)\n",
    "print(\"Precision:\", precision)\n",
    "print(\"F1-score:\", f1)\n",
    "print(\"AUROC:\", AUROC)\n",
    "print(\"AUPR:\", AUPR)"
   ]
  },
  {
   "cell_type": "markdown",
   "metadata": {},
   "source": [
    "# Logistic Regression class"
   ]
  },
  {
   "cell_type": "code",
   "execution_count": 88,
   "metadata": {},
   "outputs": [],
   "source": [
    "class LogisticRegression:\n",
    "    def __init__(self, learning_rate=0.01, num_iterations=1000, regularization=\"l1\", regularization_strength=0):\n",
    "        self.learning_rate = learning_rate\n",
    "        self.num_iterations = num_iterations\n",
    "        self.regularization = regularization\n",
    "        self.regularization_strength = regularization_strength\n",
    "        self.weights = None\n",
    "        self.bias = None\n",
    "\n",
    "    def sigmoid(self, z):\n",
    "        return 1 / (1 + np.exp(-z))\n",
    "\n",
    "    def fit(self, X, y):\n",
    "        no_examples, no_features = X.shape\n",
    "        self.weights = np.zeros(no_features)\n",
    "        self.bias = 0\n",
    "\n",
    "        for _ in range(self.num_iterations):\n",
    "            z = np.dot(X, self.weights) + self.bias\n",
    "            y_pred = self.sigmoid(z)\n",
    "\n",
    "            gradient = (1 / no_examples) * np.dot(X.T, (y_pred - y))\n",
    "            bias_gradiant = (1 / no_examples) * np.sum(y_pred - y)\n",
    "\n",
    "            # Regularization\n",
    "            if self.regularization == \"l1\":\n",
    "                gradient += (self.regularization_strength / no_examples) * np.sign(self.weights)\n",
    "            elif self.regularization == \"l2\":\n",
    "                gradient += (2 * self.regularization_strength / no_examples) * self.weights\n",
    "\n",
    "            self.weights -= self.learning_rate * gradient\n",
    "            self.bias -= self.learning_rate * bias_gradiant\n",
    "\n",
    "    def predict(self, X):\n",
    "        y_pred = self.predict_proba(X)\n",
    "        return np.round(y_pred)\n",
    "    \n",
    "    def predict_proba(self, X):\n",
    "        z = np.dot(X, self.weights) + self.bias\n",
    "        y_pred = self.sigmoid(z)\n",
    "        return y_pred\n"
   ]
  },
  {
   "cell_type": "markdown",
   "metadata": {},
   "source": [
    "# Bagging"
   ]
  },
  {
   "cell_type": "code",
   "execution_count": 89,
   "metadata": {},
   "outputs": [],
   "source": [
    "class Bagging:\n",
    "    def __init__(self, model_count):\n",
    "        self.model_count = model_count\n",
    "\n",
    "    def resample(self, X_train, y_train):\n",
    "        length = len(X_train)\n",
    "\n",
    "        X_train_resampled = pd.DataFrame()\n",
    "        y_train_resampled = []\n",
    "\n",
    "        for i in range(length):\n",
    "            rand = random.randint(0, length - 1)\n",
    "            row_to_append = X_train.iloc[rand] \n",
    "            X_train_resampled = pd.concat([X_train_resampled, row_to_append.to_frame().T], ignore_index=True)\n",
    "            y_train_resampled.append(y_train.iloc[rand])\n",
    "\n",
    "        return X_train_resampled, y_train_resampled\n",
    "\n",
    "    def get_LR_learners(self, X_train, y_train):\n",
    "        base_lr = []\n",
    "\n",
    "        for _ in range(self.model_count):\n",
    "            X_train_bag, y_train_bag = self.resample(X_train, y_train)\n",
    "\n",
    "            lr = LogisticRegression(\n",
    "                learning_rate=50,\n",
    "                num_iterations=100\n",
    "            )\n",
    "            lr.fit(X_train_bag, y_train_bag)\n",
    "\n",
    "            base_lr.append(lr)\n",
    "\n",
    "        return base_lr\n"
   ]
  },
  {
   "cell_type": "code",
   "execution_count": 90,
   "metadata": {},
   "outputs": [],
   "source": [
    "model_count = 9\n",
    "bag_generator = Bagging(model_count)\n",
    "base_lr = bag_generator.get_LR_learners(X_train, y_train)"
   ]
  },
  {
   "cell_type": "markdown",
   "metadata": {},
   "source": [
    "# Report"
   ]
  },
  {
   "cell_type": "code",
   "execution_count": 91,
   "metadata": {},
   "outputs": [],
   "source": [
    "def report(y_true, y_pred, y_score):\n",
    "\n",
    "    accuracy = accuracy_score(y_true, y_pred)\n",
    "    sensitivity = recall_score(y_true, y_pred)\n",
    "    precision = precision_score(y_true, y_pred)\n",
    "    f1 = f1_score(y_true, y_pred)\n",
    "\n",
    "    auroc = roc_auc_score(y_true, y_score)\n",
    "    aupr = average_precision_score(y_true, y_score)\n",
    "\n",
    "    cm = confusion_matrix(y_true, y_pred)\n",
    "    \n",
    "    tn = cm[0, 0]\n",
    "    fp = cm[0, 1]\n",
    "    \n",
    "    specificity = tn / (tn + fp)\n",
    "\n",
    "    print(\"Accuracy:\", accuracy)\n",
    "    print(\"Sensitivity:\", sensitivity)\n",
    "    print(\"Specificity:\", specificity)\n",
    "    print(\"Precision:\", precision)\n",
    "    print(\"F1-score:\", f1)\n",
    "    print(\"AUROC:\", auroc)\n",
    "    print(\"AUPR:\", aupr)\n",
    "\n",
    "    return [accuracy, sensitivity, specificity, precision, f1, auroc, aupr]"
   ]
  },
  {
   "cell_type": "markdown",
   "metadata": {},
   "source": [
    "**Report of LR's**"
   ]
  },
  {
   "cell_type": "code",
   "execution_count": 92,
   "metadata": {},
   "outputs": [
    {
     "name": "stdout",
     "output_type": "stream",
     "text": [
      "\n",
      "\n",
      "Model 1\n",
      "---------------\n",
      "\n",
      "Accuracy: 0.7974325901357411\n",
      "Sensitivity: 0.7979719188767551\n",
      "Specificity: 0.797265782066747\n",
      "Precision: 0.5490161001788909\n",
      "F1-score: 0.6504874947011445\n",
      "AUROC: 0.8829575780538258\n",
      "AUPR: 0.6895071578820227\n",
      "\n",
      "\n",
      "Model 2\n",
      "---------------\n",
      "\n",
      "Accuracy: 0.7488483508384006\n",
      "Sensitivity: 0.8627145085803433\n",
      "Specificity: 0.7136308805790108\n",
      "Precision: 0.4823375490623637\n",
      "F1-score: 0.6187412587412587\n",
      "AUROC: 0.8732793992097441\n",
      "AUPR: 0.6466202531228351\n",
      "\n",
      "\n",
      "Model 3\n",
      "---------------\n",
      "\n",
      "Accuracy: 0.8328726736686936\n",
      "Sensitivity: 0.4713988559542382\n",
      "Specificity: 0.9446722959388821\n",
      "Precision: 0.7249100359856058\n",
      "F1-score: 0.5712935244997637\n",
      "AUROC: 0.8788449286262565\n",
      "AUPR: 0.6865113293566071\n",
      "\n",
      "\n",
      "Model 4\n",
      "---------------\n",
      "\n",
      "Accuracy: 0.7484184018180702\n",
      "Sensitivity: 0.8788351534061363\n",
      "Specificity: 0.7080820265379976\n",
      "Precision: 0.48216833095577744\n",
      "F1-score: 0.6226971260132645\n",
      "AUROC: 0.8763587294597535\n",
      "AUPR: 0.6540809690590842\n",
      "\n",
      "\n",
      "Model 5\n",
      "---------------\n",
      "\n",
      "Accuracy: 0.7796204164363368\n",
      "Sensitivity: 0.0811232449297972\n",
      "Specificity: 0.9956574185765983\n",
      "Precision: 0.8524590163934426\n",
      "F1-score: 0.14814814814814814\n",
      "AUROC: 0.8542911439014857\n",
      "AUPR: 0.6477078129043223\n",
      "\n",
      "\n",
      "Model 6\n",
      "---------------\n",
      "\n",
      "Accuracy: 0.6680179350162766\n",
      "Sensitivity: 0.9505980239209568\n",
      "Specificity: 0.5806192199437072\n",
      "Precision: 0.4121294104385075\n",
      "F1-score: 0.5749783754030039\n",
      "AUROC: 0.8795162510159433\n",
      "AUPR: 0.6510493198871634\n",
      "\n",
      "\n",
      "Model 7\n",
      "---------------\n",
      "\n",
      "Accuracy: 0.7645722007247712\n",
      "Sensitivity: 0.003640145605824233\n",
      "Specificity: 0.9999195818254926\n",
      "Precision: 0.9333333333333333\n",
      "F1-score: 0.007252007252007252\n",
      "AUROC: 0.8465124732854211\n",
      "AUPR: 0.6265803134216458\n",
      "\n",
      "\n",
      "Model 8\n",
      "---------------\n",
      "\n",
      "Accuracy: 0.7269209508015478\n",
      "Sensitivity: 0.9048361934477379\n",
      "Specificity: 0.6718938480096501\n",
      "Precision: 0.4603174603174603\n",
      "F1-score: 0.6102051551814834\n",
      "AUROC: 0.8735743494878516\n",
      "AUPR: 0.6447649190061451\n",
      "\n",
      "\n",
      "Model 9\n",
      "---------------\n",
      "\n",
      "Accuracy: 0.7651864136109575\n",
      "Sensitivity: 0.006500260010400416\n",
      "Specificity: 0.9998391636509851\n",
      "Precision: 0.9259259259259259\n",
      "F1-score: 0.012909888974954816\n",
      "AUROC: 0.8410207023479975\n",
      "AUPR: 0.6232093099424617\n"
     ]
    }
   ],
   "source": [
    "scores = []\n",
    "\n",
    "for i, model in enumerate(base_lr):\n",
    "    y_pred = model.predict(X_test)\n",
    "    y_score = model.predict_proba(X_test)\n",
    "    \n",
    "    print(f\"\\n\\nModel {i + 1}\")\n",
    "    print(\"---------------\\n\")\n",
    "    scores.append(report(y_test, y_pred, y_score))"
   ]
  },
  {
   "cell_type": "markdown",
   "metadata": {},
   "source": [
    "# Violin plotting"
   ]
  },
  {
   "cell_type": "code",
   "execution_count": 93,
   "metadata": {},
   "outputs": [
    {
     "data": {
      "image/png": "[encoded data removed]",
      "text/plain": [
       "<Figure size 1200x600 with 1 Axes>"
      ]
     },
     "metadata": {},
     "output_type": "display_data"
    }
   ],
   "source": [
    "df_violin = pd.DataFrame(scores, columns=[\"Accuracy\", \"Sensitivity\", \"Specificity\", \"Precision\", \"F1\", \"AUROC\", \"AUPR\"])\n",
    "\n",
    "sns.set_theme()\n",
    "plt.figure(figsize=(12, 6))\n",
    "\n",
    "sns.violinplot(data=df_violin)\n",
    "\n",
    "plt.xlabel(\"Metric\")\n",
    "plt.ylabel(\"Value\")\n",
    "plt.title(\"Performance Distribution of Logistic Regression Models\")\n",
    "\n",
    "plt.show()"
   ]
  },
  {
   "cell_type": "code",
   "execution_count": 94,
   "metadata": {},
   "outputs": [
    {
     "name": "stdout",
     "output_type": "stream",
     "text": [
      "\n",
      "\n",
      "Model LR's\n",
      "----------------\n",
      "\n",
      "Accuracy: --- Average:0.7591 --- Standard deviation: 0.0434\n",
      "Sensitivity: --- Average:0.5508 --- Standard deviation: 0.3907\n",
      "Specificity: --- Average: 0.8235 --- Standard deviation: 0.1544\n",
      "Precision: --- Average: 0.6470 --- Standard deviation: 0.2005\n",
      "F1-score: --- Average: 0.4241 --- Standard deviation: 0.2639\n",
      "AUROC: --- Average: 0.8674 --- Standard deviation: 0.0148\n",
      "AUPR: --- Average: 0.6522 --- Standard deviation: 0.0215\n"
     ]
    }
   ],
   "source": [
    "accuracy = []\n",
    "sensitivity = []\n",
    "specificity = []\n",
    "precision = []\n",
    "f1 = []\n",
    "auroc = []\n",
    "aupr = []\n",
    "\n",
    "for i, score in enumerate(scores):\n",
    "    accuracy.append(score[0])\n",
    "    sensitivity.append(score[1])\n",
    "    specificity.append(score[2])\n",
    "    precision.append(score[3])\n",
    "    f1.append(score[4])\n",
    "    auroc.append(score[5])\n",
    "    aupr.append(score[6])\n",
    "\n",
    "accuracy = np.array(accuracy)\n",
    "sensitivity = np.array(sensitivity)\n",
    "specificity = np.array(specificity)\n",
    "precision = np.array(precision)\n",
    "f1 = np.array(f1)\n",
    "auroc = np.array(auroc)\n",
    "aupr = np.array(aupr)\n",
    "    \n",
    "print(f\"\\n\\nModel LR's\")\n",
    "print(f\"----------------\\n\")\n",
    "print(f\"Accuracy: --- Average:{accuracy.mean():.4f} --- Standard deviation: {accuracy.std():.4f}\")\n",
    "print(f\"Sensitivity: --- Average:{sensitivity.mean():.4f} --- Standard deviation: {sensitivity.std():.4f}\")\n",
    "print(f\"Specificity: --- Average: {specificity.mean():.4f} --- Standard deviation: {specificity.std():.4f}\")\n",
    "print(f\"Precision: --- Average: {precision.mean():.4f} --- Standard deviation: {precision.std():.4f}\")\n",
    "print(f\"F1-score: --- Average: {f1.mean():.4f} --- Standard deviation: {f1.std():.4f}\")\n",
    "print(f\"AUROC: --- Average: {auroc.mean():.4f} --- Standard deviation: {auroc.std():.4f}\")\n",
    "print(f\"AUPR: --- Average: {aupr.mean():.4f} --- Standard deviation: {aupr.std():.4f}\")"
   ]
  },
  {
   "cell_type": "markdown",
   "metadata": {},
   "source": [
    "**Meta Dataset Builder**"
   ]
  },
  {
   "cell_type": "code",
   "execution_count": 95,
   "metadata": {},
   "outputs": [],
   "source": [
    "def meta_dataset_builder(base_lr, X_):\n",
    "    meta_train_features = X_.copy()    \n",
    "\n",
    "    for i, model in enumerate(base_lr):\n",
    "        prediction = model.predict(X_)\n",
    "        meta_train_features[f'lr_learner_{i}'] = prediction\n",
    "\n",
    "    return meta_train_features"
   ]
  },
  {
   "cell_type": "markdown",
   "metadata": {},
   "source": [
    "# Stacking"
   ]
  },
  {
   "cell_type": "code",
   "execution_count": 132,
   "metadata": {},
   "outputs": [],
   "source": [
    "def stacking(base_lr, X_val, y_val):\n",
    "\n",
    "    meta_train_features = meta_dataset_builder(base_lr, X_val)\n",
    "\n",
    "    meta_classifier = LogisticRegression(\n",
    "        learning_rate=1.5,\n",
    "        num_iterations=100\n",
    "    )\n",
    "\n",
    "    meta_classifier.fit(meta_train_features, y_val)\n",
    "\n",
    "    return meta_classifier"
   ]
  },
  {
   "cell_type": "code",
   "execution_count": 133,
   "metadata": {},
   "outputs": [],
   "source": [
    "meta_classifier = stacking(base_lr, X_val, y_val)"
   ]
  },
  {
   "cell_type": "markdown",
   "metadata": {},
   "source": [
    "# Test"
   ]
  },
  {
   "cell_type": "code",
   "execution_count": 134,
   "metadata": {},
   "outputs": [],
   "source": [
    "def test_data(meta_classifier, X_test):\n",
    "\n",
    "    meta_test_features = meta_dataset_builder(base_lr, X_test)\n",
    "    stacking_preds = meta_classifier.predict(meta_test_features)\n",
    "    y_score = meta_classifier.predict_proba(meta_test_features)\n",
    "    \n",
    "    return stacking_preds, y_score"
   ]
  },
  {
   "cell_type": "code",
   "execution_count": 135,
   "metadata": {},
   "outputs": [],
   "source": [
    "stacking_preds, y_score = test_data(meta_classifier, X_test)    "
   ]
  },
  {
   "cell_type": "markdown",
   "metadata": {},
   "source": [
    "# Majority Voting Classification"
   ]
  },
  {
   "cell_type": "code",
   "execution_count": 136,
   "metadata": {},
   "outputs": [],
   "source": [
    "class MajorityVoting:\n",
    "    def __init__(self, base_lr):\n",
    "        self.base_lr = base_lr\n",
    "\n",
    "    def majority_voting_df_builder(self, X_test):\n",
    "        majority_voting_df = []\n",
    "\n",
    "        for i, model in enumerate(self.base_lr):\n",
    "            prediction = model.predict(X_test)\n",
    "            majority_voting_df.append(prediction)\n",
    "\n",
    "        return majority_voting_df\n",
    "\n",
    "    def majority_voting_classifier(self, X_test):\n",
    "        majority_voting_df = self.majority_voting_df_builder(X_test)\n",
    "\n",
    "        majority_voting_preds = []\n",
    "        for i in range(len(majority_voting_df[0])):\n",
    "            ONE = 0\n",
    "            ZERO = 0\n",
    "            for j in range(len(majority_voting_df)):\n",
    "                if majority_voting_df[j][i] == 1:\n",
    "                    ONE += 1\n",
    "                else:\n",
    "                    ZERO += 1\n",
    "            if ONE > ZERO:\n",
    "                majority_voting_preds.append(1)\n",
    "            else:\n",
    "                majority_voting_preds.append(0)\n",
    "\n",
    "        return majority_voting_preds"
   ]
  },
  {
   "cell_type": "code",
   "execution_count": 137,
   "metadata": {},
   "outputs": [],
   "source": [
    "mv_model = MajorityVoting(base_lr)\n",
    "majority_voting_preds = mv_model.majority_voting_classifier(X_test)"
   ]
  },
  {
   "cell_type": "markdown",
   "metadata": {},
   "source": [
    "# Report"
   ]
  },
  {
   "cell_type": "code",
   "execution_count": 138,
   "metadata": {},
   "outputs": [
    {
     "name": "stdout",
     "output_type": "stream",
     "text": [
      "Majority Voting\n",
      "-----------------\n",
      "\n",
      "Accuracy: 0.7979853817333088\n",
      "Sensitivity: 0.797451898075923\n",
      "Specificity: 0.7981503819863289\n",
      "Precision: 0.5499372422449346\n",
      "F1-score: 0.6509604160033959\n",
      "AUROC: 0.797801140031126\n",
      "AUPR: 0.4863956814847786\n",
      "\n",
      "Ensemble Stacking\n",
      "-----------------\n",
      "\n",
      "Accuracy: 0.8320741969166513\n",
      "Sensitivity: 0.4872594903796152\n",
      "Specificity: 0.9387213510253317\n",
      "Precision: 0.7109256449165402\n",
      "F1-score: 0.578216599814872\n",
      "AUROC: 0.87736578622775\n",
      "AUPR: 0.6821794804796661\n"
     ]
    }
   ],
   "source": [
    "print(\"Majority Voting\")\n",
    "print(\"-----------------\\n\")\n",
    "mv_score = report(y_test, majority_voting_preds, majority_voting_preds)\n",
    "print(\"\\nEnsemble Stacking\")\n",
    "print(\"-----------------\\n\")\n",
    "se_score = report(y_test, stacking_preds, y_score)"
   ]
  }
 ],
 "metadata": {
  "kernelspec": {
   "display_name": "Python 3",
   "language": "python",
   "name": "python3"
  },
  "language_info": {
   "codemirror_mode": {
    "name": "ipython",
    "version": 3
   },
   "file_extension": ".py",
   "mimetype": "text/x-python",
   "name": "python",
   "nbconvert_exporter": "python",
   "pygments_lexer": "ipython3",
   "version": "3.12.5"
  }
 },
 "nbformat": 4,
 "nbformat_minor": 2
}
